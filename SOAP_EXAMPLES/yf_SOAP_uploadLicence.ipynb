{
 "cells": [
  {
   "cell_type": "markdown",
   "metadata": {},
   "source": [
    "## Imports"
   ]
  },
  {
   "cell_type": "code",
   "execution_count": 4,
   "metadata": {},
   "outputs": [],
   "source": [
    "from suds.client import Client\n",
    "import random\n",
    "import base64\n",
    "\n",
    "YF_BASE_URL = \"<YF_BASE_URL>\" # Could be something like: \"http://localhost:9696\""
   ]
  },
  {
   "cell_type": "markdown",
   "metadata": {},
   "source": [
    "## Create Yellowfin Admin Service\n",
    "\n",
    "### With a function get_user_dashboards"
   ]
  },
  {
   "cell_type": "code",
   "execution_count": 11,
   "metadata": {},
   "outputs": [],
   "source": [
    "class YellowfinAdminService(object):\n",
    "    url = f'{YF_BASE_URL}/services/AdministrationService?wsdl'\n",
    "    client = Client(url)\n",
    "    ADMIN_USER = '' # Change to ad admin account in your yellowfin instance\n",
    "    ADMIN_PASS = ''\n",
    "    \n",
    "    def upload_licence(self, user):\n",
    "        with open(\"<licence_file_path>.lic\", \"rb\") as licence_file:\n",
    "            encoded_string = base64.b64encode(licence_file.read()).decode('utf-8')\n",
    "            admin_service_request = {\n",
    "                \"function\": \"UPLOADLICENCE\",\n",
    "                \"loginId\" : self.ADMIN_USER,\n",
    "                \"password\": self.ADMIN_PASS,\n",
    "                \"orgId\": 1,\n",
    "                \"binaryData\": encoded_string\n",
    "            }\n",
    "            \n",
    "            response = self.client.service.remoteAdministrationCall(admin_service_request)\n",
    "\n",
    "            if response.statusCode == 'SUCCESS':\n",
    "                print(f\"Call {admin_service_request['function']} Succeeded\")\n",
    "                return response\n",
    "            else: \n",
    "                print(f\"Call {admin_service_request['function']} Failed: {response.errorCode}\")\n",
    "                return None"
   ]
  },
  {
   "cell_type": "markdown",
   "metadata": {},
   "source": [
    "## Call to upload Licence"
   ]
  },
  {
   "cell_type": "code",
   "execution_count": null,
   "metadata": {},
   "outputs": [],
   "source": [
    "yellowfin = YellowfinAdminService()\n",
    "yellowfin.upload_licence('EMAIL')"
   ]
  }
 ],
 "metadata": {
  "interpreter": {
   "hash": "aee8b7b246df8f9039afb4144a1f6fd8d2ca17a180786b69acc140d282b71a49"
  },
  "kernelspec": {
   "display_name": "Python 3.9.6 64-bit",
   "name": "python3"
  },
  "language_info": {
   "codemirror_mode": {
    "name": "ipython",
    "version": 3
   },
   "file_extension": ".py",
   "mimetype": "text/x-python",
   "name": "python",
   "nbconvert_exporter": "python",
   "pygments_lexer": "ipython3",
   "version": "3.9.6"
  }
 },
 "nbformat": 4,
 "nbformat_minor": 2
}
