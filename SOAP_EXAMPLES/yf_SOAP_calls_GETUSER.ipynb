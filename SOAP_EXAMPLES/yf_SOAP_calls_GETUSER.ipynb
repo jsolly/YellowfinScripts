{
 "cells": [
  {
   "cell_type": "markdown",
   "metadata": {},
   "source": [
    "## Imports"
   ]
  },
  {
   "cell_type": "code",
   "execution_count": 1,
   "metadata": {},
   "outputs": [],
   "source": [
    "from suds.client import Client\n",
    "import random\n",
    "import base64\n",
    "import string"
   ]
  },
  {
   "cell_type": "markdown",
   "metadata": {},
   "source": [
    "## Create Yellowfin Admin Service\n",
    "\n",
    "### With a function get_user_dashboards"
   ]
  },
  {
   "cell_type": "code",
   "execution_count": 8,
   "metadata": {},
   "outputs": [],
   "source": [
    "class YellowfinAdminService(object):\n",
    "    url = 'http://localhost:8081/services/AdministrationService?wsdl'\n",
    "    client = Client(url)\n",
    "    ADMIN_USER = ''\n",
    "    ADMIN_PASS = ''\n",
    "\n",
    "    \n",
    "    \n",
    "    def get_user(self, user):\n",
    "        admin_service_request={\n",
    "            'function': 'GETUSER',\n",
    "            'loginId' : self.ADMIN_USER,\n",
    "            'password' : self.ADMIN_PASS,\n",
    "            'orgId': 1,\n",
    "            'person' : {\n",
    "                'userId': user\n",
    "            }\n",
    "        }\n",
    "        \n",
    "        \n",
    "        response = self.client.service.remoteAdministrationCall(admin_service_request)\n",
    "\n",
    "        if response.statusCode == 'SUCCESS':\n",
    "            print(\"Call \"+admin_service_request['function']+\" Succeeded\")\n",
    "            return response\n",
    "        else: \n",
    "            print(\"Call \"+admin_service_request['function']+\" Failed: \"+str(response.errorCode))\n",
    "            return None"
   ]
  },
  {
   "cell_type": "markdown",
   "metadata": {},
   "source": [
    "## Call to get information for a given user"
   ]
  },
  {
   "cell_type": "code",
   "execution_count": null,
   "metadata": {},
   "outputs": [],
   "source": [
    "yellowfin = YellowfinAdminService()\n",
    "print(yellowfin.get_user(''))"
   ]
  },
  {
   "cell_type": "markdown",
   "metadata": {},
   "source": []
  }
 ],
 "metadata": {
  "interpreter": {
   "hash": "aee8b7b246df8f9039afb4144a1f6fd8d2ca17a180786b69acc140d282b71a49"
  },
  "kernelspec": {
   "display_name": "Python 3.9.6 64-bit",
   "name": "python3"
  },
  "language_info": {
   "codemirror_mode": {
    "name": "ipython",
    "version": 3
   },
   "file_extension": ".py",
   "mimetype": "text/x-python",
   "name": "python",
   "nbconvert_exporter": "python",
   "pygments_lexer": "ipython3",
   "version": "3.9.7"
  }
 },
 "nbformat": 4,
 "nbformat_minor": 2
}
