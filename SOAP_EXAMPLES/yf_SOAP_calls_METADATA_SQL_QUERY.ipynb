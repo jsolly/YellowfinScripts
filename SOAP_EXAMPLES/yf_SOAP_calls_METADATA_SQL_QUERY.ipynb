{
 "cells": [
  {
   "cell_type": "markdown",
   "metadata": {},
   "source": [
    "## Imports"
   ]
  },
  {
   "cell_type": "code",
   "execution_count": 27,
   "metadata": {},
   "outputs": [],
   "source": [
    "from suds.client import Client\n",
    "import random\n",
    "import base64\n",
    "import string"
   ]
  },
  {
   "cell_type": "markdown",
   "metadata": {},
   "source": [
    "## Create Yellowfin Admin Service"
   ]
  },
  {
   "cell_type": "code",
   "execution_count": 39,
   "metadata": {},
   "outputs": [],
   "source": [
    "class YellowfinAdminService(object):\n",
    "    url = 'http://localhost:8081/services/AdministrationService?wsdl'\n",
    "    client = Client(url)\n",
    "    ADMIN_USER = ''\n",
    "    ADMIN_PASS = ''\n",
    "\n",
    "    \n",
    "    \n",
    "    def run_func(self, email):\n",
    "        admin_service_request={\n",
    "            'function': 'METADATASQLQUERY',\n",
    "            'loginId' : self.ADMIN_USER,\n",
    "            'password' : self.ADMIN_PASS,\n",
    "            'orgId': 1,\n",
    "            'query': f\"SELECT ipid, rolecode, emailaddress\\\n",
    "                      FROM public.ipcontact\\\n",
    "                      JOIN public.staffmemberrole on (ipid=public.staffmemberrole.ipemployee)\\\n",
    "                      WHERE public.ipcontact.emailaddress = 'EMAIL'\"\n",
    "        }\n",
    "        \n",
    "        \n",
    "        response = self.client.service.remoteAdministrationCall(admin_service_request)\n",
    "\n",
    "        if response.statusCode == 'SUCCESS':\n",
    "            print(\"Call \"+admin_service_request['function']+\" Succeeded\")\n",
    "            return response\n",
    "        else: \n",
    "            print(\"Call \"+admin_service_request['function']+\" Failed: \"+str(response.errorCode))\n",
    "            return None"
   ]
  },
  {
   "cell_type": "markdown",
   "metadata": {},
   "source": [
    "## Run Function"
   ]
  },
  {
   "cell_type": "code",
   "execution_count": null,
   "metadata": {},
   "outputs": [],
   "source": [
    "yellowfin = YellowfinAdminService()\n",
    "result = yellowfin.run_func('EMAIL').queryResults[0]\n",
    "print(result)"
   ]
  }
 ],
 "metadata": {
  "interpreter": {
   "hash": "aee8b7b246df8f9039afb4144a1f6fd8d2ca17a180786b69acc140d282b71a49"
  },
  "kernelspec": {
   "display_name": "Python 3.9.6 64-bit",
   "name": "python3"
  },
  "language_info": {
   "codemirror_mode": {
    "name": "ipython",
    "version": 3
   },
   "file_extension": ".py",
   "mimetype": "text/x-python",
   "name": "python",
   "nbconvert_exporter": "python",
   "pygments_lexer": "ipython3",
   "version": "3.9.7"
  }
 },
 "nbformat": 4,
 "nbformat_minor": 2
}
